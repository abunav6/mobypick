{
 "cells": [
  {
   "cell_type": "code",
   "execution_count": 1,
   "id": "912d4ee0-a962-4e0c-982b-690c8cdb176f",
   "metadata": {},
   "outputs": [],
   "source": [
    "# Goals:\n",
    "#  - remove books with a blank title\n",
    "#  - sort by the number of reviews as a way of gauging popularity\n",
    "#  - normalize the ratings distribution field (maybe)\n",
    "#  - create an \"average rating\" field\n",
    "#  - create a truncated version of the dataset by taking the top 100k books (out of 1,521,962)\n",
    "#  - use a python package to infer the language for rows where there is no language (polyglot / langdetect?)\n",
    "#  - import the genres dataset and join it to the dataframe\n",
    "\n",
    "# the 'books' data has: author, isbn, image, link to goodreads\n",
    "# the 'works' data has: reviews / ratings\n",
    "\n",
    "# since works has ratings count, we can sort by that and join in 'books'"
   ]
  },
  {
   "cell_type": "code",
   "execution_count": 2,
   "id": "dbd4e633-c8dd-44d8-b1a2-d37190104192",
   "metadata": {},
   "outputs": [],
   "source": [
    "import sys\n",
    "import os\n",
    "import itertools\n",
    "from operator import add\n",
    "from csv import reader\n",
    "from itertools import chain\n",
    "from pyspark import SparkContext, SparkConf\n",
    "from pyspark.sql.functions import col, expr, udf, collect_list, struct, array, lit, array_max\n",
    "from pyspark.sql.types import FloatType, StringType, ArrayType, IntegerType\n",
    "\n",
    "#from polyglot.detect import Detector\n",
    "from langdetect import detect"
   ]
  },
  {
   "cell_type": "code",
   "execution_count": 3,
   "id": "c05a9f35-fd95-474c-b8fd-9a5d3150509c",
   "metadata": {},
   "outputs": [
    {
     "name": "stderr",
     "output_type": "stream",
     "text": [
      "Setting default log level to \"WARN\".\n",
      "To adjust logging level use sc.setLogLevel(newLevel). For SparkR, use setLogLevel(newLevel).\n",
      "23/12/12 11:45:57 WARN NativeCodeLoader: Unable to load native-hadoop library for your platform... using builtin-java classes where applicable\n"
     ]
    }
   ],
   "source": [
    "cf = SparkConf()\n",
    "cf.set(\"spark.submit.deployMode\",\"client\")\n",
    "sc = SparkContext.getOrCreate(cf)\n",
    "from pyspark.sql import SparkSession\n",
    "spark = SparkSession \\\n",
    "\t    .builder \\\n",
    "\t    .appName(\"Python Spark SQL basic example\") \\\n",
    "\t    .config(\"spark.some.config.option\", \"some-value\") \\\n",
    "\t    .getOrCreate()"
   ]
  },
  {
   "cell_type": "code",
   "execution_count": 4,
   "id": "c3ef850c-733d-4568-9937-8fbc92aa3f0a",
   "metadata": {},
   "outputs": [
    {
     "name": "stderr",
     "output_type": "stream",
     "text": [
      "                                                                                \r"
     ]
    }
   ],
   "source": [
    "#path = \"../goodreads_book_genres_initial.json\"\n",
    "path = \"./Datasets/goodreads_book_works.json\"\n",
    "bookDF = spark.read.json(path)"
   ]
  },
  {
   "cell_type": "code",
   "execution_count": 5,
   "id": "87ce0c73-9cfd-456c-a4de-52d7af25fb8b",
   "metadata": {
    "scrolled": true
   },
   "outputs": [
    {
     "name": "stderr",
     "output_type": "stream",
     "text": [
      "[Stage 3:>                                                          (0 + 5) / 5]\r"
     ]
    },
    {
     "name": "stdout",
     "output_type": "stream",
     "text": [
      "+------------+-----------+--------------------------+---------------------------------+----------+--------------------+------------------------+--------------------------+-------------------------+--------------------+--------------------+-------------+-----------+-------------+------------------+--------+\n",
      "|best_book_id|books_count|default_chaptering_book_id|default_description_language_code|media_type|original_language_id|original_publication_day|original_publication_month|original_publication_year|      original_title|         rating_dist|ratings_count|ratings_sum|reviews_count|text_reviews_count| work_id|\n",
      "+------------+-----------+--------------------------+---------------------------------+----------+--------------------+------------------------+--------------------------+-------------------------+--------------------+--------------------+-------------+-----------+-------------+------------------+--------+\n",
      "|    17310087|          1|                          |                                 |      book|                    |                      18|                         9|                     2001|Harry Potter and ...|5:43|4:18|3:5|2:3...|           69|        308|          207|                 4|23970668|\n",
      "+------------+-----------+--------------------------+---------------------------------+----------+--------------------+------------------------+--------------------------+-------------------------+--------------------+--------------------+-------------+-----------+-------------+------------------+--------+\n",
      "\n"
     ]
    },
    {
     "name": "stderr",
     "output_type": "stream",
     "text": [
      "                                                                                \r"
     ]
    }
   ],
   "source": [
    "#bookDF.printSchema()\n",
    "#bookDF.show(10)\n",
    "# best_book_id corresponds to the book ID in the reviews dataset\n",
    "# the book ID in the genres dataset and the book ID in the books dataset\n",
    "bookDF.filter(bookDF.best_book_id == 17310087).show()"
   ]
  },
  {
   "cell_type": "code",
   "execution_count": 6,
   "id": "0dc2936f-27ac-4926-b594-2c8b55693a0b",
   "metadata": {},
   "outputs": [],
   "source": [
    "## COUNTS\n",
    "# TOTAL ROWS: 1,521,962 \n",
    "# MEDIA TYPE BOOK: 1,102,395\n",
    "# HAS ORIGINAL TITLE: 646,906\n",
    "# CLEANED: 475,143"
   ]
  },
  {
   "cell_type": "code",
   "execution_count": 7,
   "id": "5173b0f6-7d9f-4317-9e15-4d6b069f2e11",
   "metadata": {},
   "outputs": [],
   "source": [
    "bookDF = bookDF.filter(col('original_title') != '').filter(col('media_type') == 'book')\n",
    "#bookDF.count()"
   ]
  },
  {
   "cell_type": "code",
   "execution_count": 8,
   "id": "e0634693-7b14-436c-92d3-60797a5f1863",
   "metadata": {},
   "outputs": [],
   "source": [
    "bookDF = bookDF.orderBy(bookDF.ratings_count.cast(\"int\"), ascending=False).limit(2000)"
   ]
  },
  {
   "cell_type": "code",
   "execution_count": 9,
   "id": "68eec9a7-0487-4dfc-81ca-bfa2b9c3e810",
   "metadata": {},
   "outputs": [
    {
     "name": "stderr",
     "output_type": "stream",
     "text": [
      "[Stage 4:===========>                                              (2 + 8) / 10]\r"
     ]
    },
    {
     "name": "stdout",
     "output_type": "stream",
     "text": [
      "+------------+-------------------------+--------------------+--------------------+-------------+-------------+--------+\n",
      "|best_book_id|original_publication_year|      original_title|         rating_dist|ratings_count|reviews_count| work_id|\n",
      "+------------+-------------------------+--------------------+--------------------+-------------+-------------+--------+\n",
      "|           3|                     1997|Harry Potter and ...|5:3131920|4:11907...|      4972886|      5801988| 4640799|\n",
      "|           5|                     1999|Harry Potter and ...|5:1303937|4:51915...|      2019176|      2496720| 2402163|\n",
      "|       15881|                     1998|Harry Potter and ...|5:1097387|4:56060...|      1955144|      2431183| 6231171|\n",
      "|           6|                     2000|Harry Potter and ...|5:1227707|4:50391...|      1912948|      2375359| 3046572|\n",
      "|      136251|                     2007|Harry Potter and ...|5:1351479|4:39082...|      1889600|      2383409| 2963218|\n",
      "|           2|                     2003|Harry Potter and ...|5:1149382|4:50233...|      1875594|      2331984| 2809203|\n",
      "|           1|                     2005|Harry Potter and ...|5:1190925|4:46657...|      1824878|      2291161|41335427|\n",
      "|    29056083|                     2016|Harry Potter and ...|5:122849|4:140352...|       423043|       791754|48765776|\n",
      "|      862041|                     1998|Complete Harry Po...|5:167342|4:31173|...|       208105|       272069| 2962492|\n",
      "|       19330|                     1986|The Complete Tale...|5:32990|4:15574|3...|        58324|        69353| 1139913|\n",
      "+------------+-------------------------+--------------------+--------------------+-------------+-------------+--------+\n",
      "\n"
     ]
    },
    {
     "name": "stderr",
     "output_type": "stream",
     "text": [
      "                                                                                \r"
     ]
    }
   ],
   "source": [
    "bookDF.filter(col(\"original_title\").like(\"%Potter%\")).select('best_book_id',\\\n",
    "            'original_publication_year',\\\n",
    "            'original_title',\\\n",
    "            'rating_dist',\\\n",
    "            'ratings_count',\\\n",
    "            'reviews_count',\\\n",
    "            'work_id'\n",
    "           ).show()"
   ]
  },
  {
   "cell_type": "code",
   "execution_count": 10,
   "id": "3b80b76a-d55a-4bf8-8d3b-72fab199b0b6",
   "metadata": {},
   "outputs": [],
   "source": [
    "bookDF = bookDF.select('best_book_id',\\\n",
    "            'original_publication_day',\\\n",
    "            'original_publication_month',\\\n",
    "            'original_publication_year',\\\n",
    "            'original_title',\\\n",
    "            'rating_dist',\\\n",
    "            'ratings_count',\\\n",
    "            'ratings_sum',\\\n",
    "            'reviews_count',\\\n",
    "            'text_reviews_count',\\\n",
    "            'work_id'\n",
    "           ).withColumn(\"avg_rating\", col(\"ratings_sum\") / col(\"ratings_count\"))"
   ]
  },
  {
   "cell_type": "code",
   "execution_count": 11,
   "id": "0b12399e-0578-465b-986e-6d9d1f49c4c1",
   "metadata": {},
   "outputs": [],
   "source": [
    "# UDF to detect the language from the title\n",
    "# none of the rows have an entry for `default_description_language_code`\n",
    "# so there's no need to check that before filling\n",
    "def get_language(title):\n",
    "    try:\n",
    "        inf_lang = detect(title)\n",
    "        return inf_lang\n",
    "    except Exception as e:\n",
    "        return ''\n",
    "\n",
    "lang_udf = udf(get_language, StringType())"
   ]
  },
  {
   "cell_type": "code",
   "execution_count": 12,
   "id": "e2a52c2d-9d18-46f9-addb-6de00d657e03",
   "metadata": {},
   "outputs": [],
   "source": [
    "bookDFLanguages = bookDF.withColumn('inferred_language_id', lang_udf(bookDF.original_title))"
   ]
  },
  {
   "cell_type": "code",
   "execution_count": 13,
   "id": "1dcc03e4-81a2-4852-acb8-0cb0861d83d0",
   "metadata": {},
   "outputs": [
    {
     "name": "stderr",
     "output_type": "stream",
     "text": [
      "                                                                                \r"
     ]
    },
    {
     "data": {
      "text/plain": [
       "2000"
      ]
     },
     "execution_count": 13,
     "metadata": {},
     "output_type": "execute_result"
    }
   ],
   "source": [
    "bookDFLanguages.count()"
   ]
  },
  {
   "cell_type": "code",
   "execution_count": 14,
   "id": "80fbc875-8356-496d-92b9-f0df7e812606",
   "metadata": {},
   "outputs": [
    {
     "name": "stderr",
     "output_type": "stream",
     "text": [
      "                                                                                \r"
     ]
    }
   ],
   "source": [
    "# join in the genres information\n",
    "pathG = \"./Datasets/goodreads_book_genres_initial.json\"\n",
    "genreDF = spark.read.json(pathG)"
   ]
  },
  {
   "cell_type": "code",
   "execution_count": 15,
   "id": "a8c16bc3-099b-4bad-b7a7-5f5c508a7a78",
   "metadata": {},
   "outputs": [
    {
     "name": "stdout",
     "output_type": "stream",
     "text": [
      "root\n",
      " |-- book_id: string (nullable = true)\n",
      " |-- genres: struct (nullable = true)\n",
      " |    |-- children: long (nullable = true)\n",
      " |    |-- comics, graphic: long (nullable = true)\n",
      " |    |-- fantasy, paranormal: long (nullable = true)\n",
      " |    |-- fiction: long (nullable = true)\n",
      " |    |-- history, historical fiction, biography: long (nullable = true)\n",
      " |    |-- mystery, thriller, crime: long (nullable = true)\n",
      " |    |-- non-fiction: long (nullable = true)\n",
      " |    |-- poetry: long (nullable = true)\n",
      " |    |-- romance: long (nullable = true)\n",
      " |    |-- young-adult: long (nullable = true)\n",
      "\n",
      "+-------+---------------------------------------------------------+\n",
      "|book_id|genres                                                   |\n",
      "+-------+---------------------------------------------------------+\n",
      "|5333265|{NULL, NULL, NULL, NULL, 1, NULL, NULL, NULL, NULL, NULL}|\n",
      "|1333909|{NULL, NULL, NULL, 219, 5, NULL, NULL, NULL, NULL, NULL} |\n",
      "|7327624|{NULL, NULL, 31, 8, NULL, 1, NULL, 1, NULL, NULL}        |\n",
      "|6066819|{NULL, NULL, NULL, 555, NULL, 10, NULL, NULL, 23, NULL}  |\n",
      "|287140 |{NULL, NULL, NULL, NULL, NULL, NULL, 3, NULL, NULL, NULL}|\n",
      "+-------+---------------------------------------------------------+\n",
      "only showing top 5 rows\n",
      "\n"
     ]
    }
   ],
   "source": [
    "genreDF.printSchema()\n",
    "genreDF.show(5, truncate=False)"
   ]
  },
  {
   "cell_type": "code",
   "execution_count": null,
   "id": "d5087e65-ce53-4040-bd2a-19d62ef18fa5",
   "metadata": {},
   "outputs": [],
   "source": []
  },
  {
   "cell_type": "code",
   "execution_count": null,
   "id": "25a75419-5e34-448d-996d-bb4475ace2ba",
   "metadata": {},
   "outputs": [],
   "source": []
  },
  {
   "cell_type": "code",
   "execution_count": null,
   "id": "04a0fac2-b31c-416e-9504-bb37bd501dd2",
   "metadata": {},
   "outputs": [],
   "source": []
  },
  {
   "cell_type": "code",
   "execution_count": 16,
   "id": "553220fd-d519-4205-b66c-3d3746ef584b",
   "metadata": {},
   "outputs": [],
   "source": [
    "# flatten genres\n",
    "expandedGenreDF = genreDF.select(\n",
    "    col(\"book_id\"),\n",
    "    col(\"genres.children\").alias(\"children\"),\n",
    "    col(\"genres.`comics, graphic`\").alias(\"comics_graphic\"),\n",
    "    col(\"genres.`fantasy, paranormal`\").alias(\"fantasy_paranormal\"),\n",
    "    col(\"genres.fiction\").alias(\"fiction\"),\n",
    "    col(\"genres.`history, historical fiction, biography`\").alias(\"history_biography\"),\n",
    "    col(\"genres.`mystery, thriller, crime`\").alias(\"mystery_thriller_crime\"),\n",
    "    col(\"genres.`non-fiction`\").alias(\"non_fiction\"),\n",
    "    col(\"genres.poetry\").alias(\"poetry\"),\n",
    "    col(\"genres.romance\").alias(\"romance\"),\n",
    "    col(\"genres.`young-adult`\").alias(\"young_adult\")\n",
    ")"
   ]
  },
  {
   "cell_type": "code",
   "execution_count": 17,
   "id": "35bbb48c-30ef-4eed-843c-4e064850e4db",
   "metadata": {},
   "outputs": [],
   "source": [
    "def filter_genres(genre_list):\n",
    "    return list(filter(None, genre_list))\n",
    "\n",
    "filter_genres_udf = udf(filter_genres, ArrayType(StringType()))"
   ]
  },
  {
   "cell_type": "code",
   "execution_count": 18,
   "id": "f613f8b3-6374-4059-9d32-a8a7b942b411",
   "metadata": {},
   "outputs": [
    {
     "name": "stdout",
     "output_type": "stream",
     "text": [
      "+--------+------------------------------------------------------------------------+\n",
      "|book_id |genres                                                                  |\n",
      "+--------+------------------------------------------------------------------------+\n",
      "|5333265 |[history_biography]                                                     |\n",
      "|1333909 |[fiction, history_biography]                                            |\n",
      "|7327624 |[fantasy_paranormal, fiction, mystery_thriller_crime, poetry]           |\n",
      "|6066819 |[fiction, mystery_thriller_crime, romance]                              |\n",
      "|287140  |[non_fiction]                                                           |\n",
      "|287141  |[children, fantasy_paranormal, fiction, history_biography, young_adult] |\n",
      "|378460  |[fiction]                                                               |\n",
      "|6066812 |[children, fantasy_paranormal, fiction, young_adult]                    |\n",
      "|34883016|[romance]                                                               |\n",
      "|287149  |[history_biography, non_fiction]                                        |\n",
      "|6066814 |[fiction, history_biography, mystery_thriller_crime]                    |\n",
      "|33394837|[fantasy_paranormal, fiction, history_biography, mystery_thriller_crime]|\n",
      "|89371   |[children, fiction, non_fiction, poetry, young_adult]                   |\n",
      "|28575155|[]                                                                      |\n",
      "|89373   |[fiction, history_biography, mystery_thriller_crime]                    |\n",
      "|89375   |[comics_graphic, fiction, history_biography, non_fiction]               |\n",
      "|89376   |[non_fiction]                                                           |\n",
      "|89377   |[children, fiction, history_biography, young_adult]                     |\n",
      "|89378   |[children, fiction, non_fiction, young_adult]                           |\n",
      "|21401188|[fantasy_paranormal, fiction, romance, young_adult]                     |\n",
      "+--------+------------------------------------------------------------------------+\n",
      "only showing top 20 rows\n",
      "\n"
     ]
    }
   ],
   "source": [
    "df_with_genres = expandedGenreDF.withColumn(\n",
    "    \"genres\",\n",
    "    expr(\n",
    "        \"array(\"\n",
    "        + \", \".join(\n",
    "            [\n",
    "                f\"CASE WHEN {col_name} IS NOT NULL THEN '{col_name}' END\"\n",
    "                for col_name in expandedGenreDF.columns[1:]\n",
    "            ]\n",
    "        )\n",
    "        + \")\"\n",
    "    ),\n",
    ").select(\"book_id\", \"genres\")\n",
    "\n",
    "filtered_genres = df_with_genres.withColumn('genres', filter_genres_udf(df_with_genres.genres))\n",
    "#filtered_genres = filtered_genres.withColumn(\"genres\", col(\"genres\").cast(\"string\"))\n",
    "filtered_genres.show(truncate=False)"
   ]
  },
  {
   "cell_type": "code",
   "execution_count": 19,
   "id": "227a267e-18e2-497f-acfd-d90b7162e8fc",
   "metadata": {},
   "outputs": [],
   "source": [
    "bookGenreDF = bookDFLanguages.join(filtered_genres, col('best_book_id') == col('book_id'))"
   ]
  },
  {
   "cell_type": "code",
   "execution_count": 20,
   "id": "32b6c484-5079-486a-a420-7b90b3562ce0",
   "metadata": {
    "scrolled": true
   },
   "outputs": [],
   "source": [
    "#bookGenreDF.filter(bookGenreDF.book_id == 27036533).show()"
   ]
  },
  {
   "cell_type": "code",
   "execution_count": 21,
   "id": "b7fefa20-d99d-40f8-a6d7-e04a5332677a",
   "metadata": {},
   "outputs": [
    {
     "name": "stderr",
     "output_type": "stream",
     "text": [
      "                                                                                \r"
     ]
    },
    {
     "data": {
      "text/plain": [
       "1998"
      ]
     },
     "execution_count": 21,
     "metadata": {},
     "output_type": "execute_result"
    }
   ],
   "source": [
    "bookGenreDF.count() # 1998"
   ]
  },
  {
   "cell_type": "code",
   "execution_count": 22,
   "id": "4c1c5185-bb00-4bb2-997d-5433c02674c6",
   "metadata": {},
   "outputs": [
    {
     "name": "stderr",
     "output_type": "stream",
     "text": [
      "ERROR:root:KeyboardInterrupt while sending command.              (20 + 10) / 69]\n",
      "Traceback (most recent call last):\n",
      "  File \"/Users/shirleyberry/Library/Python/3.9/lib/python/site-packages/py4j/java_gateway.py\", line 1038, in send_command\n",
      "    response = connection.send_command(command)\n",
      "  File \"/Users/shirleyberry/Library/Python/3.9/lib/python/site-packages/py4j/clientserver.py\", line 511, in send_command\n",
      "    answer = smart_decode(self.stream.readline()[:-1])\n",
      "  File \"/Applications/Xcode.app/Contents/Developer/Library/Frameworks/Python3.framework/Versions/3.9/lib/python3.9/socket.py\", line 704, in readinto\n",
      "    return self._sock.recv_into(b)\n",
      "KeyboardInterrupt\n",
      "[Stage 16:================>                                      (21 + 10) / 69]\r"
     ]
    },
    {
     "ename": "KeyboardInterrupt",
     "evalue": "",
     "output_type": "error",
     "traceback": [
      "\u001b[0;31m---------------------------------------------------------------------------\u001b[0m",
      "\u001b[0;31mKeyboardInterrupt\u001b[0m                         Traceback (most recent call last)",
      "Cell \u001b[0;32mIn[22], line 2\u001b[0m\n\u001b[1;32m      1\u001b[0m pathB \u001b[38;5;241m=\u001b[39m \u001b[38;5;124m\"\u001b[39m\u001b[38;5;124m./Datasets/goodreads_books.json\u001b[39m\u001b[38;5;124m\"\u001b[39m\n\u001b[0;32m----> 2\u001b[0m bookDetailDF \u001b[38;5;241m=\u001b[39m \u001b[43mspark\u001b[49m\u001b[38;5;241;43m.\u001b[39;49m\u001b[43mread\u001b[49m\u001b[38;5;241;43m.\u001b[39;49m\u001b[43mjson\u001b[49m\u001b[43m(\u001b[49m\u001b[43mpathB\u001b[49m\u001b[43m)\u001b[49m\n\u001b[1;32m      3\u001b[0m bookDetailDF\u001b[38;5;241m.\u001b[39mprintSchema()\n",
      "File \u001b[0;32m~/Library/Python/3.9/lib/python/site-packages/pyspark/sql/readwriter.py:425\u001b[0m, in \u001b[0;36mDataFrameReader.json\u001b[0;34m(self, path, schema, primitivesAsString, prefersDecimal, allowComments, allowUnquotedFieldNames, allowSingleQuotes, allowNumericLeadingZero, allowBackslashEscapingAnyCharacter, mode, columnNameOfCorruptRecord, dateFormat, timestampFormat, multiLine, allowUnquotedControlChars, lineSep, samplingRatio, dropFieldIfAllNull, encoding, locale, pathGlobFilter, recursiveFileLookup, modifiedBefore, modifiedAfter, allowNonNumericNumbers)\u001b[0m\n\u001b[1;32m    423\u001b[0m \u001b[38;5;28;01mif\u001b[39;00m \u001b[38;5;28mtype\u001b[39m(path) \u001b[38;5;241m==\u001b[39m \u001b[38;5;28mlist\u001b[39m:\n\u001b[1;32m    424\u001b[0m     \u001b[38;5;28;01massert\u001b[39;00m \u001b[38;5;28mself\u001b[39m\u001b[38;5;241m.\u001b[39m_spark\u001b[38;5;241m.\u001b[39m_sc\u001b[38;5;241m.\u001b[39m_jvm \u001b[38;5;129;01mis\u001b[39;00m \u001b[38;5;129;01mnot\u001b[39;00m \u001b[38;5;28;01mNone\u001b[39;00m\n\u001b[0;32m--> 425\u001b[0m     \u001b[38;5;28;01mreturn\u001b[39;00m \u001b[38;5;28mself\u001b[39m\u001b[38;5;241m.\u001b[39m_df(\u001b[38;5;28;43mself\u001b[39;49m\u001b[38;5;241;43m.\u001b[39;49m\u001b[43m_jreader\u001b[49m\u001b[38;5;241;43m.\u001b[39;49m\u001b[43mjson\u001b[49m\u001b[43m(\u001b[49m\u001b[38;5;28;43mself\u001b[39;49m\u001b[38;5;241;43m.\u001b[39;49m\u001b[43m_spark\u001b[49m\u001b[38;5;241;43m.\u001b[39;49m\u001b[43m_sc\u001b[49m\u001b[38;5;241;43m.\u001b[39;49m\u001b[43m_jvm\u001b[49m\u001b[38;5;241;43m.\u001b[39;49m\u001b[43mPythonUtils\u001b[49m\u001b[38;5;241;43m.\u001b[39;49m\u001b[43mtoSeq\u001b[49m\u001b[43m(\u001b[49m\u001b[43mpath\u001b[49m\u001b[43m)\u001b[49m\u001b[43m)\u001b[49m)\n\u001b[1;32m    426\u001b[0m \u001b[38;5;28;01melif\u001b[39;00m \u001b[38;5;28misinstance\u001b[39m(path, RDD):\n\u001b[1;32m    428\u001b[0m     \u001b[38;5;28;01mdef\u001b[39;00m \u001b[38;5;21mfunc\u001b[39m(iterator: Iterable) \u001b[38;5;241m-\u001b[39m\u001b[38;5;241m>\u001b[39m Iterable:\n",
      "File \u001b[0;32m~/Library/Python/3.9/lib/python/site-packages/py4j/java_gateway.py:1321\u001b[0m, in \u001b[0;36mJavaMember.__call__\u001b[0;34m(self, *args)\u001b[0m\n\u001b[1;32m   1314\u001b[0m args_command, temp_args \u001b[38;5;241m=\u001b[39m \u001b[38;5;28mself\u001b[39m\u001b[38;5;241m.\u001b[39m_build_args(\u001b[38;5;241m*\u001b[39margs)\n\u001b[1;32m   1316\u001b[0m command \u001b[38;5;241m=\u001b[39m proto\u001b[38;5;241m.\u001b[39mCALL_COMMAND_NAME \u001b[38;5;241m+\u001b[39m\\\n\u001b[1;32m   1317\u001b[0m     \u001b[38;5;28mself\u001b[39m\u001b[38;5;241m.\u001b[39mcommand_header \u001b[38;5;241m+\u001b[39m\\\n\u001b[1;32m   1318\u001b[0m     args_command \u001b[38;5;241m+\u001b[39m\\\n\u001b[1;32m   1319\u001b[0m     proto\u001b[38;5;241m.\u001b[39mEND_COMMAND_PART\n\u001b[0;32m-> 1321\u001b[0m answer \u001b[38;5;241m=\u001b[39m \u001b[38;5;28;43mself\u001b[39;49m\u001b[38;5;241;43m.\u001b[39;49m\u001b[43mgateway_client\u001b[49m\u001b[38;5;241;43m.\u001b[39;49m\u001b[43msend_command\u001b[49m\u001b[43m(\u001b[49m\u001b[43mcommand\u001b[49m\u001b[43m)\u001b[49m\n\u001b[1;32m   1322\u001b[0m return_value \u001b[38;5;241m=\u001b[39m get_return_value(\n\u001b[1;32m   1323\u001b[0m     answer, \u001b[38;5;28mself\u001b[39m\u001b[38;5;241m.\u001b[39mgateway_client, \u001b[38;5;28mself\u001b[39m\u001b[38;5;241m.\u001b[39mtarget_id, \u001b[38;5;28mself\u001b[39m\u001b[38;5;241m.\u001b[39mname)\n\u001b[1;32m   1325\u001b[0m \u001b[38;5;28;01mfor\u001b[39;00m temp_arg \u001b[38;5;129;01min\u001b[39;00m temp_args:\n",
      "File \u001b[0;32m~/Library/Python/3.9/lib/python/site-packages/py4j/java_gateway.py:1038\u001b[0m, in \u001b[0;36mGatewayClient.send_command\u001b[0;34m(self, command, retry, binary)\u001b[0m\n\u001b[1;32m   1036\u001b[0m connection \u001b[38;5;241m=\u001b[39m \u001b[38;5;28mself\u001b[39m\u001b[38;5;241m.\u001b[39m_get_connection()\n\u001b[1;32m   1037\u001b[0m \u001b[38;5;28;01mtry\u001b[39;00m:\n\u001b[0;32m-> 1038\u001b[0m     response \u001b[38;5;241m=\u001b[39m \u001b[43mconnection\u001b[49m\u001b[38;5;241;43m.\u001b[39;49m\u001b[43msend_command\u001b[49m\u001b[43m(\u001b[49m\u001b[43mcommand\u001b[49m\u001b[43m)\u001b[49m\n\u001b[1;32m   1039\u001b[0m     \u001b[38;5;28;01mif\u001b[39;00m binary:\n\u001b[1;32m   1040\u001b[0m         \u001b[38;5;28;01mreturn\u001b[39;00m response, \u001b[38;5;28mself\u001b[39m\u001b[38;5;241m.\u001b[39m_create_connection_guard(connection)\n",
      "File \u001b[0;32m~/Library/Python/3.9/lib/python/site-packages/py4j/clientserver.py:511\u001b[0m, in \u001b[0;36mClientServerConnection.send_command\u001b[0;34m(self, command)\u001b[0m\n\u001b[1;32m    509\u001b[0m \u001b[38;5;28;01mtry\u001b[39;00m:\n\u001b[1;32m    510\u001b[0m     \u001b[38;5;28;01mwhile\u001b[39;00m \u001b[38;5;28;01mTrue\u001b[39;00m:\n\u001b[0;32m--> 511\u001b[0m         answer \u001b[38;5;241m=\u001b[39m smart_decode(\u001b[38;5;28;43mself\u001b[39;49m\u001b[38;5;241;43m.\u001b[39;49m\u001b[43mstream\u001b[49m\u001b[38;5;241;43m.\u001b[39;49m\u001b[43mreadline\u001b[49m\u001b[43m(\u001b[49m\u001b[43m)\u001b[49m[:\u001b[38;5;241m-\u001b[39m\u001b[38;5;241m1\u001b[39m])\n\u001b[1;32m    512\u001b[0m         logger\u001b[38;5;241m.\u001b[39mdebug(\u001b[38;5;124m\"\u001b[39m\u001b[38;5;124mAnswer received: \u001b[39m\u001b[38;5;132;01m{0}\u001b[39;00m\u001b[38;5;124m\"\u001b[39m\u001b[38;5;241m.\u001b[39mformat(answer))\n\u001b[1;32m    513\u001b[0m         \u001b[38;5;66;03m# Happens when a the other end is dead. There might be an empty\u001b[39;00m\n\u001b[1;32m    514\u001b[0m         \u001b[38;5;66;03m# answer before the socket raises an error.\u001b[39;00m\n",
      "File \u001b[0;32m/Applications/Xcode.app/Contents/Developer/Library/Frameworks/Python3.framework/Versions/3.9/lib/python3.9/socket.py:704\u001b[0m, in \u001b[0;36mSocketIO.readinto\u001b[0;34m(self, b)\u001b[0m\n\u001b[1;32m    702\u001b[0m \u001b[38;5;28;01mwhile\u001b[39;00m \u001b[38;5;28;01mTrue\u001b[39;00m:\n\u001b[1;32m    703\u001b[0m     \u001b[38;5;28;01mtry\u001b[39;00m:\n\u001b[0;32m--> 704\u001b[0m         \u001b[38;5;28;01mreturn\u001b[39;00m \u001b[38;5;28;43mself\u001b[39;49m\u001b[38;5;241;43m.\u001b[39;49m\u001b[43m_sock\u001b[49m\u001b[38;5;241;43m.\u001b[39;49m\u001b[43mrecv_into\u001b[49m\u001b[43m(\u001b[49m\u001b[43mb\u001b[49m\u001b[43m)\u001b[49m\n\u001b[1;32m    705\u001b[0m     \u001b[38;5;28;01mexcept\u001b[39;00m timeout:\n\u001b[1;32m    706\u001b[0m         \u001b[38;5;28mself\u001b[39m\u001b[38;5;241m.\u001b[39m_timeout_occurred \u001b[38;5;241m=\u001b[39m \u001b[38;5;28;01mTrue\u001b[39;00m\n",
      "\u001b[0;31mKeyboardInterrupt\u001b[0m: "
     ]
    }
   ],
   "source": [
    "pathB = \"./Datasets/goodreads_books.json\"\n",
    "bookDetailDF = spark.read.json(pathB)\n",
    "bookDetailDF.printSchema()"
   ]
  },
  {
   "cell_type": "code",
   "execution_count": null,
   "id": "324610ae-5b2c-43cc-a7b2-3248c7a3b448",
   "metadata": {},
   "outputs": [],
   "source": [
    "bookDetailDF = bookDetailDF.select(\"book_id\",\\\n",
    "                                   \"work_id\",\\\n",
    "                                   \"isbn\",\\\n",
    "                                   \"isbn13\",\\\n",
    "                                   \"title\",\\\n",
    "                                   \"format\",\\\n",
    "                                   \"url\",\\\n",
    "                                   \"image_url\",\\\n",
    "                                   \"authors\")\n",
    "\n",
    "                                   #\"description\",\\\n",
    "                                   #\"link\",\\"
   ]
  },
  {
   "cell_type": "code",
   "execution_count": null,
   "id": "30aeaf23-f629-46c0-8dcd-9c1df68c2228",
   "metadata": {},
   "outputs": [],
   "source": [
    "# books have a list of authors, flatten it by just taking the first\n",
    "def get_author_id(authors_list):\n",
    "    try:\n",
    "        if authors_list and authors_list[0]:\n",
    "            return int(authors_list[0]['author_id'])\n",
    "        else:\n",
    "            return 0\n",
    "    except EOFError:\n",
    "        return 0\n",
    "\n",
    "get_author_id_udf = udf(get_author_id, IntegerType())"
   ]
  },
  {
   "cell_type": "code",
   "execution_count": null,
   "id": "e5cbc8fd-cdc3-4aca-b73b-bb3e142a18c5",
   "metadata": {},
   "outputs": [],
   "source": [
    "bookDetailDF = bookDetailDF.withColumn('author_id', get_author_id_udf(col('authors'))).drop('authors')"
   ]
  },
  {
   "cell_type": "code",
   "execution_count": null,
   "id": "90fbe7ac-026e-4b31-ab2c-45ad1fe2a616",
   "metadata": {},
   "outputs": [],
   "source": [
    "bookDetailDF = bookDetailDF.withColumnRenamed('book_id', 'det_book_id').withColumnRenamed('work_id', 'det_work_id')"
   ]
  },
  {
   "cell_type": "code",
   "execution_count": null,
   "id": "5f642d6e-020b-4825-b948-f975d7921ee9",
   "metadata": {},
   "outputs": [],
   "source": [
    "bookDetailDF = bookDetailDF.filter(bookDetailDF.author_id != 0) # CAN REMOVE THIS"
   ]
  },
  {
   "cell_type": "code",
   "execution_count": null,
   "id": "a29bcd8a-e537-4bab-8bd5-761a63d50dc9",
   "metadata": {},
   "outputs": [],
   "source": [
    "bookDetailDF.count()"
   ]
  },
  {
   "cell_type": "code",
   "execution_count": null,
   "id": "6cb19d81-3abc-4b2c-b672-fee6e304d8ed",
   "metadata": {},
   "outputs": [],
   "source": [
    "# now we have works+genres and books+author IDs, join them\n",
    "fullBookDF = bookGenreDF.join(bookDetailDF, bookGenreDF.best_book_id == bookDetailDF.det_book_id)\n",
    "#fullBookDF.count() # 1998"
   ]
  },
  {
   "cell_type": "code",
   "execution_count": null,
   "id": "2d7ed3af-fc02-45ad-91aa-02b8205d77b3",
   "metadata": {},
   "outputs": [],
   "source": [
    "# join in author data to get the author name\n",
    "pathA = \"./Datasets/goodreads_book_authors.json\"\n",
    "authorDetailDF = spark.read.json(pathA)\n",
    "#authorDetailDF.printSchema()"
   ]
  },
  {
   "cell_type": "code",
   "execution_count": null,
   "id": "9c347136-ec5c-4e75-b2ea-32913041dc5c",
   "metadata": {},
   "outputs": [],
   "source": [
    "authorDetailDF = authorDetailDF.select(authorDetailDF.author_id, authorDetailDF.name).withColumnRenamed('author_id', 'a_author_id')"
   ]
  },
  {
   "cell_type": "code",
   "execution_count": null,
   "id": "c95f7970-5ff1-4eb6-8045-b131496f4444",
   "metadata": {},
   "outputs": [],
   "source": [
    "fullBookDF = fullBookDF.join(authorDetailDF, fullBookDF.author_id == authorDetailDF.a_author_id).drop('a_author_id')\n",
    "#fullBookDF.count() # 1998"
   ]
  },
  {
   "cell_type": "code",
   "execution_count": null,
   "id": "01a67dd7-e333-4963-8beb-b314d7918752",
   "metadata": {},
   "outputs": [],
   "source": [
    "# repartition so we can write it to a single file\n",
    "fullBookDF = fullBookDF.repartition(1)\n",
    "#fullBookDF.write.csv(\"full_book_data.csv\", header=True, mode=\"overwrite\")"
   ]
  },
  {
   "cell_type": "code",
   "execution_count": null,
   "id": "6b56eaee-094f-4c8d-ab4d-2a6bfb34f9aa",
   "metadata": {
    "scrolled": true
   },
   "outputs": [],
   "source": [
    "# get the IDs before we re-partition and write\n",
    "# used later to filter the interactions dataset\n",
    "bookIDs = fullBookDF.select(\"best_book_id\").rdd.flatMap(lambda x: x).collect()"
   ]
  },
  {
   "cell_type": "code",
   "execution_count": null,
   "id": "62920db9-cc29-4590-b8bb-840dce1d9340",
   "metadata": {},
   "outputs": [],
   "source": [
    "# use the idsDF to truncate / filter down the interactions dataset which is MASSIVE\n",
    "pathI = \"./Datasets/goodreads_interactions.csv\"\n",
    "interactionsDF = spark.read.option(\"header\", True).csv(pathI)"
   ]
  },
  {
   "cell_type": "code",
   "execution_count": null,
   "id": "1429ab92-340c-4b32-b634-94efcbb142ff",
   "metadata": {},
   "outputs": [],
   "source": [
    "interactionsDF.printSchema()\n",
    "#interactionsDF.count() # prefiltered count: 228,648,342"
   ]
  },
  {
   "cell_type": "code",
   "execution_count": null,
   "id": "23160bf8-dc87-4ace-8b91-5974a6e3af46",
   "metadata": {},
   "outputs": [],
   "source": [
    "# bookDetailDF = bookDetailDF.filter(bookDetailDF.author_id != 0)\n",
    "interactionsDF = interactionsDF.filter(interactionsDF.is_read == 1) # 112,131,203\n",
    "interactionsDF = interactionsDF.filter(interactionsDF.book_id.isin(bookIDs)) # 193,937\n",
    "#interactionsDF.count() #1,381,758"
   ]
  },
  {
   "cell_type": "code",
   "execution_count": null,
   "id": "f242c898-40f1-47d6-b630-e2323db5428e",
   "metadata": {},
   "outputs": [],
   "source": [
    "#interactionsDF = interactionsDF.join(idsDF, \"book_id\", \"inner\")"
   ]
  },
  {
   "cell_type": "code",
   "execution_count": null,
   "id": "c8d84ad0-8423-4ddf-8bf1-b765095259b9",
   "metadata": {
    "scrolled": true
   },
   "outputs": [],
   "source": [
    "#filteredInteractionsDF.count() # "
   ]
  },
  {
   "cell_type": "code",
   "execution_count": null,
   "id": "062f56b1-fb75-4dfd-9aeb-a51903c26764",
   "metadata": {},
   "outputs": [
    {
     "name": "stderr",
     "output_type": "stream",
     "text": [
      "                                                                                \r"
     ]
    }
   ],
   "source": [
    "interactionsDF = interactionsDF.repartition(1)\n",
    "interactionsDF.write.csv(\"interactions_data.csv\", header=True, mode=\"overwrite\")"
   ]
  },
  {
   "cell_type": "code",
   "execution_count": null,
   "id": "f8dec202-5d90-43fb-9ae7-b56b42fffa31",
   "metadata": {},
   "outputs": [],
   "source": []
  },
  {
   "cell_type": "code",
   "execution_count": null,
   "id": "87131103-da6b-4807-8f2a-8b6f22c4147c",
   "metadata": {
    "scrolled": true
   },
   "outputs": [],
   "source": []
  },
  {
   "cell_type": "code",
   "execution_count": null,
   "id": "deaac941-7c99-45ba-a5b2-faf6e4ec9710",
   "metadata": {},
   "outputs": [],
   "source": []
  }
 ],
 "metadata": {
  "kernelspec": {
   "display_name": "Python 3 (ipykernel)",
   "language": "python",
   "name": "python3"
  },
  "language_info": {
   "codemirror_mode": {
    "name": "ipython",
    "version": 3
   },
   "file_extension": ".py",
   "mimetype": "text/x-python",
   "name": "python",
   "nbconvert_exporter": "python",
   "pygments_lexer": "ipython3",
   "version": "3.9.6"
  }
 },
 "nbformat": 4,
 "nbformat_minor": 5
}
